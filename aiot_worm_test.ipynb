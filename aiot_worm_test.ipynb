{
 "cells": [
  {
   "cell_type": "code",
   "execution_count": 1,
   "id": "cf33c8f2",
   "metadata": {},
   "outputs": [
    {
     "name": "stdout",
     "output_type": "stream",
     "text": [
      "https://m.youtube.com/watch?v=BVpXUyXPKOg\n"
     ]
    }
   ],
   "source": [
    "import requests\n",
    "from bs4 import BeautifulSoup\n",
    "import re\n",
    "#給一個假定的使用者，讓google不要被偵測到是在刷機\n",
    "MOBILE_USER_AGENT = \"Mozilla/5.0 (Linux; Android 7.0; SM-G930V Build/NRD90M) AppleWebKit/537.36 (KHTML, like Gecko) Chrome/59.0.3071.125 Mobile Safari/537.36\"\n",
    "headers = {\"user-agent\" : MOBILE_USER_AGENT}\n",
    "keyword_ar = [\"買\", \"看\", \"聽\", ]\n",
    "#\"我要買iphone13\", \"什麼是電腦\", \"我想看月老\", \"我想聽梁靜茹的勇氣\"\n",
    "request = \"我想聽梁靜茹的勇氣\"\n",
    "for key_index in range(0, len(keyword_ar)): #檢查請求有沒有keyword_ar的關鍵字 \n",
    "    if keyword_ar[key_index] in request:\n",
    "        keyword = request[request.rfind(keyword_ar[key_index]) :]\n",
    "        break\n",
    "    if key_index == len(keyword_ar)-1:\n",
    "        keyword = request\n",
    "URL = 'https://www.google.com/search?q={}'.format(keyword)\n",
    "\n",
    "resp = requests.get(URL, headers=headers)\n",
    "soup = BeautifulSoup(resp.content, \"html.parser\")\n",
    "a_tags = soup.find_all('a')\n",
    "for tag in a_tags:\n",
    "    response = tag.get('href')\n",
    "    if response and 'https://' in response and 'google' not in response:\n",
    "        result = response\n",
    "        break\n",
    "print(result)"
   ]
  },
  {
   "cell_type": "code",
   "execution_count": null,
   "id": "9ee3ada1",
   "metadata": {},
   "outputs": [],
   "source": []
  }
 ],
 "metadata": {
  "kernelspec": {
   "display_name": "herokuproject",
   "language": "python",
   "name": "heroku"
  },
  "language_info": {
   "codemirror_mode": {
    "name": "ipython",
    "version": 3
   },
   "file_extension": ".py",
   "mimetype": "text/x-python",
   "name": "python",
   "nbconvert_exporter": "python",
   "pygments_lexer": "ipython3",
   "version": "3.8.12"
  }
 },
 "nbformat": 4,
 "nbformat_minor": 5
}
